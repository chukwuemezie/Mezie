{
 "cells": [
  {
   "cell_type": "code",
   "execution_count": null,
   "id": "79358ba3",
   "metadata": {},
   "outputs": [],
   "source": [
    "a = 0\n",
    "b = 2\n",
    "if a < b :\n",
    "    print (\"a is less than b\")\n",
    "print(\"Not sure if is less than b\")"
   ]
  },
  {
   "cell_type": "code",
   "execution_count": null,
   "id": "8068b522",
   "metadata": {},
   "outputs": [],
   "source": [
    "c = 3\n",
    "d = 4\n",
    "if c > d:\n",
    "    print ('okay')\n",
    "else:\n",
    "    print ('no')"
   ]
  },
  {
   "cell_type": "code",
   "execution_count": null,
   "id": "9c4b26fb",
   "metadata": {},
   "outputs": [],
   "source": [
    "e= 20\n",
    "f= 7\n",
    "if e < f:\n",
    "    print ('e is less than f')\n",
    "elif e == f:\n",
    "    print ('is eqaul to F')\n",
    "elif e > f - 10:\n",
    "    print ('e is less than f by 10')\n",
    "else:\n",
    "    print ('e is greater than F')"
   ]
  },
  {
   "cell_type": "code",
   "execution_count": null,
   "id": "aecfdc2e",
   "metadata": {},
   "outputs": [],
   "source": [
    "num = int(input('Enter a number: '))\n",
    "if num > 0:\n",
    "    print ('The number is Positive')\n",
    "elif num < 0:\n",
    "    print ('The number is negative')\n",
    "else:\n",
    "    print (\"The number is Zero\")\n"
   ]
  },
  {
   "cell_type": "code",
   "execution_count": null,
   "id": "72437014",
   "metadata": {},
   "outputs": [],
   "source": [
    "g = 51\n",
    "h = 50\n",
    "if g < h:\n",
    "    print('g is less than h')\n",
    "elif g == h:\n",
    "    print (\"g is equal to h\")\n",
    "elif g > h + 10: \n",
    "    print(\"g is greater than h by 10 \")\n",
    "else:\n",
    "    print(\"g is greater than h\")\n",
    "\n",
    "    "
   ]
  },
  {
   "cell_type": "code",
   "execution_count": null,
   "id": "9a6763e1",
   "metadata": {},
   "outputs": [],
   "source": [
    "# learning functions\n",
    "# functions is a collection of code and instructions\n",
    "def function2(y):\n",
    "    return 2 * y\n",
    "a = function2(3)\n",
    "print(a)"
   ]
  },
  {
   "cell_type": "code",
   "execution_count": null,
   "id": "d587f40e",
   "metadata": {},
   "outputs": [],
   "source": [
    "def function3(x, g):\n",
    "    return x * g\n",
    "b = function3(2, 5)\n",
    "print(b)"
   ]
  },
  {
   "cell_type": "code",
   "execution_count": null,
   "id": "2eeaf6a9",
   "metadata": {},
   "outputs": [],
   "source": [
    "h = int(input(\"Enter a number\"))\n",
    "def function4(h):\n",
    "    print(h)\n",
    "    print(\"still in this function\")\n",
    "    return 3 * h\n",
    "function4(h)"
   ]
  },
  {
   "cell_type": "code",
   "execution_count": null,
   "id": "230fb5d1",
   "metadata": {},
   "outputs": [],
   "source": [
    "name = \"chi\"\n",
    "height = 2\n",
    "weight = 90\n",
    "\n",
    "name2 = \"chu\"\n",
    "height2 = 1.8\n",
    "weight2 = 70\n",
    "\n",
    "name3 = \"Ada\"\n",
    "height3 = 2.5\n",
    "weight3 = 160\n",
    "\n",
    "def bmi_calc(name, height, weight):\n",
    "    bmi = weight / height **2\n",
    "    print (bmi)\n",
    "    if bmi < 25:\n",
    "        return \" not overweight\"\n",
    "    else:\n",
    "        return \"overweight\"\n"
   ]
  },
  {
   "cell_type": "code",
   "execution_count": null,
   "id": "6b4e5934",
   "metadata": {},
   "outputs": [],
   "source": [
    "first_result = bmi_calc(name, height, weight)\n",
    "second_result = bmi_calc(name2, height2, weight2)\n",
    "third_result = bmi_calc(name3, height3, weight3)"
   ]
  },
  {
   "cell_type": "code",
   "execution_count": null,
   "id": "d496c5aa",
   "metadata": {},
   "outputs": [],
   "source": [
    "print(first_result)\n",
    "print(second_result)\n",
    "print(third_result)"
   ]
  },
  {
   "cell_type": "code",
   "execution_count": null,
   "id": "8763a963",
   "metadata": {},
   "outputs": [],
   "source": [
    "def km(miles):\n",
    "    return 1.6 * miles\n",
    "km(4)\n",
    "\n",
    "\n",
    "    "
   ]
  },
  {
   "cell_type": "code",
   "execution_count": null,
   "id": "108621fb",
   "metadata": {},
   "outputs": [],
   "source": []
  },
  {
   "cell_type": "code",
   "execution_count": null,
   "id": "105b1b3f",
   "metadata": {},
   "outputs": [],
   "source": [
    "#learning list\n",
    "z = [\"banana\", \"apple\", \"microsoft\"]\n"
   ]
  },
  {
   "cell_type": "code",
   "execution_count": null,
   "id": "5824054a",
   "metadata": {},
   "outputs": [],
   "source": [
    "print(z)"
   ]
  },
  {
   "cell_type": "code",
   "execution_count": null,
   "id": "dee9bd24",
   "metadata": {},
   "outputs": [],
   "source": [
    "s = z[0]\n",
    "z[0]= z[2]\n",
    "z[2] = s"
   ]
  },
  {
   "cell_type": "code",
   "execution_count": null,
   "id": "8a3ec4b2",
   "metadata": {},
   "outputs": [],
   "source": [
    "print(z)"
   ]
  },
  {
   "cell_type": "code",
   "execution_count": 2,
   "id": "70bf41fe",
   "metadata": {},
   "outputs": [
    {
     "name": "stdout",
     "output_type": "stream",
     "text": [
      "banana\n",
      "apple\n",
      "microsoft\n"
     ]
    }
   ],
   "source": [
    "#learning loops\n",
    "z = [\"banana\", \"apple\", \"microsoft\"]\n",
    "for element in z:\n",
    "    print(element)"
   ]
  },
  {
   "cell_type": "code",
   "execution_count": 4,
   "id": "7f3bbaf7",
   "metadata": {},
   "outputs": [
    {
     "name": "stdout",
     "output_type": "stream",
     "text": [
      "[1, 2, 3, 4]\n"
     ]
    }
   ],
   "source": [
    "c = list(range(1, 5))\n",
    "print(c)"
   ]
  },
  {
   "cell_type": "code",
   "execution_count": 6,
   "id": "2d3f5d95",
   "metadata": {},
   "outputs": [
    {
     "name": "stdout",
     "output_type": "stream",
     "text": [
      "1\n",
      "2\n",
      "3\n",
      "4\n"
     ]
    }
   ],
   "source": [
    "for f in range(1,5):\n",
    "    print(f)"
   ]
  },
  {
   "cell_type": "code",
   "execution_count": 7,
   "id": "d66017fe",
   "metadata": {},
   "outputs": [
    {
     "name": "stdout",
     "output_type": "stream",
     "text": [
      "15\n"
     ]
    }
   ],
   "source": [
    "total = 0\n",
    "for i in range(1, 6):\n",
    "    total = total + i\n",
    "print(total)"
   ]
  },
  {
   "cell_type": "code",
   "execution_count": 11,
   "id": "5af93539",
   "metadata": {},
   "outputs": [
    {
     "name": "stdout",
     "output_type": "stream",
     "text": [
      "9\n"
     ]
    }
   ],
   "source": [
    "total2 = 0\n",
    "for g in range(1,8):\n",
    "    if g % 3 == 0:\n",
    "        total2 = total2 + g\n",
    "print(total2)"
   ]
  },
  {
   "cell_type": "code",
   "execution_count": 13,
   "id": "86a47123",
   "metadata": {},
   "outputs": [
    {
     "name": "stdout",
     "output_type": "stream",
     "text": [
      "635\n"
     ]
    }
   ],
   "source": [
    "total3 = 0\n",
    "for f in range(1, 100):\n",
    "    if f % 3 and f % 5 == 0:\n",
    "        total3 = total3 + f\n",
    "print(total3)"
   ]
  },
  {
   "cell_type": "code",
   "execution_count": null,
   "id": "4afbabc8",
   "metadata": {},
   "outputs": [],
   "source": []
  }
 ],
 "metadata": {
  "kernelspec": {
   "display_name": "Python 3 (ipykernel)",
   "language": "python",
   "name": "python3"
  },
  "language_info": {
   "codemirror_mode": {
    "name": "ipython",
    "version": 3
   },
   "file_extension": ".py",
   "mimetype": "text/x-python",
   "name": "python",
   "nbconvert_exporter": "python",
   "pygments_lexer": "ipython3",
   "version": "3.10.9"
  }
 },
 "nbformat": 4,
 "nbformat_minor": 5
}
